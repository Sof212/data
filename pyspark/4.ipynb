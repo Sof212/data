{
  "nbformat": 4,
  "nbformat_minor": 0,
  "metadata": {
    "colab": {
      "provenance": []
    },
    "kernelspec": {
      "name": "python3",
      "display_name": "Python 3"
    }
  },
  "cells": [
    {
      "cell_type": "markdown",
      "source": [
        "#TD4: Data Preprocessing with Spark"
      ],
      "metadata": {
        "id": "XPJJx-nrhUeR"
      }
    },
    {
      "cell_type": "code",
      "source": [
        "!pip install --upgrade pyspark==3.5.4 py4j"
      ],
      "metadata": {
        "colab": {
          "base_uri": "https://localhost:8080/",
          "height": 604
        },
        "id": "jU_vBgN-NCrH",
        "outputId": "5489ca53-aa9a-421c-8bab-80a3e1b5506f"
      },
      "execution_count": 2,
      "outputs": [
        {
          "output_type": "stream",
          "name": "stdout",
          "text": [
            "Collecting pyspark==3.5.4\n",
            "  Downloading pyspark-3.5.4.tar.gz (317.3 MB)\n",
            "\u001b[2K     \u001b[90m━━━━━━━━━━━━━━━━━━━━━━━━━━━━━━━━━━━━━━━━\u001b[0m \u001b[32m317.3/317.3 MB\u001b[0m \u001b[31m3.9 MB/s\u001b[0m eta \u001b[36m0:00:00\u001b[0m\n",
            "\u001b[?25h  Preparing metadata (setup.py) ... \u001b[?25l\u001b[?25hdone\n",
            "Requirement already satisfied: py4j in /usr/local/lib/python3.11/dist-packages (0.10.9)\n",
            "Collecting py4j\n",
            "  Downloading py4j-0.10.9.9-py2.py3-none-any.whl.metadata (1.3 kB)\n",
            "  Downloading py4j-0.10.9.7-py2.py3-none-any.whl.metadata (1.5 kB)\n",
            "Downloading py4j-0.10.9.7-py2.py3-none-any.whl (200 kB)\n",
            "\u001b[2K   \u001b[90m━━━━━━━━━━━━━━━━━━━━━━━━━━━━━━━━━━━━━━━━\u001b[0m \u001b[32m200.5/200.5 kB\u001b[0m \u001b[31m14.0 MB/s\u001b[0m eta \u001b[36m0:00:00\u001b[0m\n",
            "\u001b[?25hBuilding wheels for collected packages: pyspark\n",
            "  Building wheel for pyspark (setup.py) ... \u001b[?25l\u001b[?25hdone\n",
            "  Created wheel for pyspark: filename=pyspark-3.5.4-py2.py3-none-any.whl size=317849766 sha256=3c6d6c0ca7d48ff28c0774716252cfdf93710e5456cbcac97334323e5e80eff2\n",
            "  Stored in directory: /root/.cache/pip/wheels/8d/28/22/5dbae8a8714ef046cebd320d0ef7c92f5383903cf854c15c0c\n",
            "Successfully built pyspark\n",
            "Installing collected packages: py4j, pyspark\n",
            "  Attempting uninstall: py4j\n",
            "    Found existing installation: py4j 0.10.9\n",
            "    Uninstalling py4j-0.10.9:\n",
            "      Successfully uninstalled py4j-0.10.9\n",
            "  Attempting uninstall: pyspark\n",
            "    Found existing installation: pyspark 3.0.3\n",
            "    Uninstalling pyspark-3.0.3:\n",
            "      Successfully uninstalled pyspark-3.0.3\n",
            "\u001b[31mERROR: pip's dependency resolver does not currently take into account all the packages that are installed. This behaviour is the source of the following dependency conflicts.\n",
            "pyspark-stubs 3.0.0.post3 requires pyspark<3.1.0,>=3.0.0.dev0, but you have pyspark 3.5.4 which is incompatible.\u001b[0m\u001b[31m\n",
            "\u001b[0mSuccessfully installed py4j-0.10.9.7 pyspark-3.5.4\n"
          ]
        },
        {
          "output_type": "display_data",
          "data": {
            "application/vnd.colab-display-data+json": {
              "pip_warning": {
                "packages": [
                  "py4j"
                ]
              },
              "id": "183b55c526c94c13aacffd7e0c789ba8"
            }
          },
          "metadata": {}
        }
      ]
    },
    {
      "cell_type": "code",
      "source": [
        "import pyspark\n",
        "import numpy as nop\n",
        "import pandas as pd\n",
        "import matplotlib.pyplot as plt\n",
        "from pyspark.sql import SparkSession\n",
        "from pyspark.sql.functions import *\n",
        "spark = SparkSession.builder \\\n",
        "    .master(\"local\") \\\n",
        "    .appName(\"TD3\") \\\n",
        "    .getOrCreate()"
      ],
      "metadata": {
        "id": "FNlrnZK7TPLG"
      },
      "execution_count": 2,
      "outputs": []
    },
    {
      "cell_type": "code",
      "source": [
        "sc = spark.sparkContext"
      ],
      "metadata": {
        "id": "CrEKnIfXZ1UT"
      },
      "execution_count": 3,
      "outputs": []
    },
    {
      "cell_type": "markdown",
      "metadata": {
        "id": "qTGD8jauUlju"
      },
      "source": [
        "## Exploring the MovieLens 100k dataset\n"
      ]
    },
    {
      "cell_type": "markdown",
      "source": [
        "### 1) Download then unzip the MovieLens dataset available"
      ],
      "metadata": {
        "id": "hKd9L8e_XYYf"
      }
    },
    {
      "cell_type": "code",
      "metadata": {
        "id": "Nverwd3mUp02",
        "colab": {
          "base_uri": "https://localhost:8080/"
        },
        "outputId": "a02ee877-b8a8-405e-85f7-e928e17f6cae"
      },
      "source": [
        "#Q1\n",
        "# Download the folder on moodle and unzip it or download it from here (faster if you use colab)\n",
        "!wget -q http://files.grouplens.org/datasets/movielens/ml-100k.zip\n",
        "!unzip ml-100k.zip"
      ],
      "execution_count": 4,
      "outputs": [
        {
          "output_type": "stream",
          "name": "stdout",
          "text": [
            "Archive:  ml-100k.zip\n",
            "   creating: ml-100k/\n",
            "  inflating: ml-100k/allbut.pl       \n",
            "  inflating: ml-100k/mku.sh          \n",
            "  inflating: ml-100k/README          \n",
            "  inflating: ml-100k/u.data          \n",
            "  inflating: ml-100k/u.genre         \n",
            "  inflating: ml-100k/u.info          \n",
            "  inflating: ml-100k/u.item          \n",
            "  inflating: ml-100k/u.occupation    \n",
            "  inflating: ml-100k/u.user          \n",
            "  inflating: ml-100k/u1.base         \n",
            "  inflating: ml-100k/u1.test         \n",
            "  inflating: ml-100k/u2.base         \n",
            "  inflating: ml-100k/u2.test         \n",
            "  inflating: ml-100k/u3.base         \n",
            "  inflating: ml-100k/u3.test         \n",
            "  inflating: ml-100k/u4.base         \n",
            "  inflating: ml-100k/u4.test         \n",
            "  inflating: ml-100k/u5.base         \n",
            "  inflating: ml-100k/u5.test         \n",
            "  inflating: ml-100k/ua.base         \n",
            "  inflating: ml-100k/ua.test         \n",
            "  inflating: ml-100k/ub.base         \n",
            "  inflating: ml-100k/ub.test         \n"
          ]
        }
      ]
    },
    {
      "cell_type": "markdown",
      "source": [
        "### 2a) Check out the README file which contains a detailed description of the dataset, use '!head'."
      ],
      "metadata": {
        "id": "6fmW9UNKRbCp"
      }
    },
    {
      "cell_type": "code",
      "source": [
        "#Q2a\n",
        "!head /content/ml-100k/README"
      ],
      "metadata": {
        "colab": {
          "base_uri": "https://localhost:8080/"
        },
        "id": "XZRGiPghNMJi",
        "outputId": "b3f7ea34-81e5-40b6-fc41-a81ce7cfbc37"
      },
      "execution_count": null,
      "outputs": [
        {
          "output_type": "stream",
          "name": "stdout",
          "text": [
            "SUMMARY & USAGE LICENSE\n",
            "=============================================\n",
            "\n",
            "MovieLens data sets were collected by the GroupLens Research Project\n",
            "at the University of Minnesota.\n",
            " \n",
            "This data set consists of:\n",
            "\t* 100,000 ratings (1-5) from 943 users on 1682 movies. \n",
            "\t* Each user has rated at least 20 movies. \n",
            "        * Simple demographic info for the users (age, gender, occupation, zip)\n"
          ]
        }
      ]
    },
    {
      "cell_type": "markdown",
      "source": [
        "### 2b) Check the format of the file, to understand the best way to open it, use !file command followed by the path to the file"
      ],
      "metadata": {
        "id": "3_KMKmY8QukO"
      }
    },
    {
      "cell_type": "code",
      "source": [
        "#Q2b"
      ],
      "metadata": {
        "id": "4xeFI8-lRm-5"
      },
      "execution_count": null,
      "outputs": []
    },
    {
      "cell_type": "code",
      "source": [
        "!file /content/ml-100k/u.user\n"
      ],
      "metadata": {
        "colab": {
          "base_uri": "https://localhost:8080/"
        },
        "id": "0ZFHJPezQjYr",
        "outputId": "435c0a5c-d807-4e28-ada5-4964bf536261"
      },
      "execution_count": 7,
      "outputs": [
        {
          "output_type": "stream",
          "name": "stdout",
          "text": [
            "/content/ml-100k/u.user: ASCII text\n"
          ]
        }
      ]
    },
    {
      "cell_type": "code",
      "source": [
        "!file /content/ml-100k/u.item\n"
      ],
      "metadata": {
        "colab": {
          "base_uri": "https://localhost:8080/"
        },
        "id": "G6gMtZojQou2",
        "outputId": "9dba2c08-b83a-415f-c7d8-5139fda6004e"
      },
      "execution_count": 8,
      "outputs": [
        {
          "output_type": "stream",
          "name": "stdout",
          "text": [
            "/content/ml-100k/u.item: ASCII text\n"
          ]
        }
      ]
    },
    {
      "cell_type": "code",
      "source": [
        "!file /content/ml-100k/u.data\n"
      ],
      "metadata": {
        "colab": {
          "base_uri": "https://localhost:8080/"
        },
        "id": "-Ina69fSQqCu",
        "outputId": "c0bca28a-f8c6-4e82-be8f-2dafe58884bf"
      },
      "execution_count": 9,
      "outputs": [
        {
          "output_type": "stream",
          "name": "stdout",
          "text": [
            "/content/ml-100k/u.data: ASCII text\n"
          ]
        }
      ]
    },
    {
      "cell_type": "markdown",
      "source": [
        "### 2c)Now that you know the best way to treat this file, print the first 5 lines of the u.user, u.item, u.data files. Use .take() function\n",
        "\n",
        "\n"
      ],
      "metadata": {
        "id": "BlWgKG-YR1ol"
      }
    },
    {
      "cell_type": "code",
      "source": [
        "user = sc.textFile(\"/content/ml-100k/u.user\")\n",
        "user.take(5)"
      ],
      "metadata": {
        "colab": {
          "base_uri": "https://localhost:8080/"
        },
        "id": "_S8lnCVRHnKo",
        "outputId": "46620939-bf31-4045-bdde-215682750dda"
      },
      "execution_count": 10,
      "outputs": [
        {
          "output_type": "execute_result",
          "data": {
            "text/plain": [
              "['1|24|M|technician|85711',\n",
              " '2|53|F|other|94043',\n",
              " '3|23|M|writer|32067',\n",
              " '4|24|M|technician|43537',\n",
              " '5|33|F|other|15213']"
            ]
          },
          "metadata": {},
          "execution_count": 10
        }
      ]
    },
    {
      "cell_type": "code",
      "source": [
        "item = sc.textFile(\"ml-100k/u.item\")\n",
        "item.take(5)\n"
      ],
      "metadata": {
        "colab": {
          "base_uri": "https://localhost:8080/"
        },
        "id": "N6UJLeoqSLAk",
        "outputId": "da0c7f37-5a79-4bda-ccfb-6b51d9241c84"
      },
      "execution_count": 16,
      "outputs": [
        {
          "output_type": "execute_result",
          "data": {
            "text/plain": [
              "['1|Toy Story (1995)|01-Jan-1995||http://us.imdb.com/M/title-exact?Toy%20Story%20(1995)|0|0|0|1|1|1|0|0|0|0|0|0|0|0|0|0|0|0|0',\n",
              " '2|GoldenEye (1995)|01-Jan-1995||http://us.imdb.com/M/title-exact?GoldenEye%20(1995)|0|1|1|0|0|0|0|0|0|0|0|0|0|0|0|0|1|0|0',\n",
              " '3|Four Rooms (1995)|01-Jan-1995||http://us.imdb.com/M/title-exact?Four%20Rooms%20(1995)|0|0|0|0|0|0|0|0|0|0|0|0|0|0|0|0|1|0|0',\n",
              " '4|Get Shorty (1995)|01-Jan-1995||http://us.imdb.com/M/title-exact?Get%20Shorty%20(1995)|0|1|0|0|0|1|0|0|1|0|0|0|0|0|0|0|0|0|0',\n",
              " '5|Copycat (1995)|01-Jan-1995||http://us.imdb.com/M/title-exact?Copycat%20(1995)|0|0|0|0|0|0|1|0|1|0|0|0|0|0|0|0|1|0|0']"
            ]
          },
          "metadata": {},
          "execution_count": 16
        }
      ]
    },
    {
      "cell_type": "code",
      "source": [
        "data = sc.textFile('/content/ml-100k/u.data')\n",
        "data.take(5)"
      ],
      "metadata": {
        "colab": {
          "base_uri": "https://localhost:8080/"
        },
        "id": "Doid6k0dIzbe",
        "outputId": "b56e6ab7-ccf4-4665-a67c-02a3a0df74c3"
      },
      "execution_count": 12,
      "outputs": [
        {
          "output_type": "execute_result",
          "data": {
            "text/plain": [
              "['196\\t242\\t3\\t881250949',\n",
              " '186\\t302\\t3\\t891717742',\n",
              " '22\\t377\\t1\\t878887116',\n",
              " '244\\t51\\t2\\t880606923',\n",
              " '166\\t346\\t1\\t886397596']"
            ]
          },
          "metadata": {},
          "execution_count": 12
        }
      ]
    },
    {
      "cell_type": "markdown",
      "source": [
        " ## Exploring the user dataset\n"
      ],
      "metadata": {
        "id": "ThEgM35CXp8D"
      }
    },
    {
      "cell_type": "markdown",
      "source": [
        "### 3) Print the first line of the u.user data using .first() function. Do you notice something in the structure of the u.user data?"
      ],
      "metadata": {
        "id": "n85xRaXwXuTG"
      }
    },
    {
      "cell_type": "code",
      "metadata": {
        "id": "ENg698ZpGAdM",
        "outputId": "5433276a-5b31-47ab-e2fe-bdad03756f1a",
        "colab": {
          "base_uri": "https://localhost:8080/",
          "height": 36
        }
      },
      "source": [
        "#Q3\n",
        "user.first()"
      ],
      "execution_count": 15,
      "outputs": [
        {
          "output_type": "execute_result",
          "data": {
            "text/plain": [
              "'1|24|M|technician|85711'"
            ],
            "application/vnd.google.colaboratory.intrinsic+json": {
              "type": "string"
            }
          },
          "metadata": {},
          "execution_count": 15
        }
      ]
    },
    {
      "cell_type": "markdown",
      "metadata": {
        "id": "-X7TDGdOI2SY"
      },
      "source": [
        "Data is separated with the cahracter \"|\""
      ]
    },
    {
      "cell_type": "markdown",
      "source": [
        "### 4) Count the number of unique: users, genders, occupations, and ZIP codes"
      ],
      "metadata": {
        "id": "PpIjbuBAYI7B"
      }
    },
    {
      "cell_type": "markdown",
      "source": [
        "*   Take in to account what you noticed in the point 3, divide the data properly (using split())\n",
        "*   Take a look to the README to understand the organization of the data\n",
        "*   Take in to account what you noticed in point 2, take a look to the functions distinct()\n",
        "\n",
        "\n",
        "![distinct.png](data:image/png;base64,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)\n",
        "\n"
      ],
      "metadata": {
        "id": "Xwty33fnmko6"
      }
    },
    {
      "cell_type": "code",
      "metadata": {
        "id": "lA8eW1H3O8Bc",
        "outputId": "fb8246c4-cbe8-45f8-e6d2-fba4daf26555",
        "colab": {
          "base_uri": "https://localhost:8080/"
        }
      },
      "source": [
        "#Q4\n",
        "user_fields = user.map(lambda line: line.split(\"|\")) #each row in mapped(using split) to a list, check out user_fields using\n",
        "num_users = user_fields.map(lambda fields: fields[0]).count() #each row is mapped to its first element (user id), then returns the number of row\n",
        "num_genders = user_fields.map(lambda fields:fields[2]).distinct().count() #each row is mapped to its second element (gender), removes repeated values, then returns the number of row\n",
        "num_occupations = user_fields.map(lambda fields:fields[3]).distinct().count()\n",
        "num_zipcodes = user_fields.map(lambda fields:fields[4]).distinct().count()\n",
        "print(\"Users: \",num_users ,\", genders: \",num_genders , \", occupations: \", num_occupations, \", ZIP codes: \", num_zipcodes)"
      ],
      "execution_count": 18,
      "outputs": [
        {
          "output_type": "stream",
          "name": "stdout",
          "text": [
            "Users:  943 , genders:  2 , occupations:  21 , ZIP codes:  795\n"
          ]
        }
      ]
    },
    {
      "cell_type": "code",
      "source": [
        "user_fields.take(5)"
      ],
      "metadata": {
        "colab": {
          "base_uri": "https://localhost:8080/"
        },
        "id": "-ExGRRimT57L",
        "outputId": "b25c75fd-db5a-48e6-87ab-b9340242af7f"
      },
      "execution_count": 19,
      "outputs": [
        {
          "output_type": "execute_result",
          "data": {
            "text/plain": [
              "[['1', '24', 'M', 'technician', '85711'],\n",
              " ['2', '53', 'F', 'other', '94043'],\n",
              " ['3', '23', 'M', 'writer', '32067'],\n",
              " ['4', '24', 'M', 'technician', '43537'],\n",
              " ['5', '33', 'F', 'other', '15213']]"
            ]
          },
          "metadata": {},
          "execution_count": 19
        }
      ]
    },
    {
      "cell_type": "markdown",
      "source": [
        "### 5) Create a histogram to analyze the distribution of user ages"
      ],
      "metadata": {
        "id": "G4-HQfUVYXE4"
      }
    },
    {
      "cell_type": "markdown",
      "source": [
        "Using matplotlib's hist()  \n",
        "\n",
        "Be sure that age is a number mapping the values into integers.\n"
      ],
      "metadata": {
        "id": "y9F7ktGvXJ1H"
      }
    },
    {
      "cell_type": "code",
      "metadata": {
        "id": "EcIjliFeRPDH",
        "outputId": "be94c337-af31-4614-80af-3efd2f09284b",
        "colab": {
          "base_uri": "https://localhost:8080/",
          "height": 430
        }
      },
      "source": [
        "#Q5\n",
        "ages = user_fields.map(lambda fields: int(fields[1])).collect()\n",
        "plt.hist(ages, bins=20, color='lightblue', density=True)\n",
        "# We passed in the ages array, together with the number of bins for our histogram\n",
        "# ( 20 in this case), to the hist function. Using the normed=True argument, we also\n",
        "# specified that we want the histogram to be normalized so that each bucket represents\n",
        "# the percentage of the overall data that falls into that bucket.\n",
        "fig = plt.gcf() #eliminate the values\n",
        "#notice that the skewed towards younger users"
      ],
      "execution_count": 20,
      "outputs": [
        {
          "output_type": "display_data",
          "data": {
            "text/plain": [
              "<Figure size 640x480 with 1 Axes>"
            ],
            "image/png": "[encoded data removed]"
          },
          "metadata": {}
        }
      ]
    },
    {
      "cell_type": "markdown",
      "metadata": {
        "id": "rIHOXJD99qYk"
      },
      "source": [
        "### 6) Create a histogram to analyze the (sorted) frequencies of the various occupations"
      ]
    },
    {
      "cell_type": "markdown",
      "source": [
        "Take a look at the function  reduceByKey()\n",
        "\n",
        "![image.png](data:image/png;base64,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)"
      ],
      "metadata": {
        "id": "j2a0Z_rgnVLV"
      }
    },
    {
      "cell_type": "code",
      "metadata": {
        "id": "EGAE3L8DmBg9",
        "outputId": "6c2dfa1f-5f30-48f7-bbe9-2cb1348dc16e",
        "colab": {
          "base_uri": "https://localhost:8080/",
          "height": 878
        }
      },
      "source": [
        "#Q6\n",
        "#reduceByKey aggregates elements by key. The aggregation function is given as lambda function\n",
        "count_by_occupation = user_fields.map(lambda fields: (fields[3], 1)).reduceByKey(lambda x, y: x + y).collect()\n",
        "#sort count_by_occupation into 2 different array using numpy\n",
        "x_axis1 = np.array([c[0] for c in count_by_occupation]) #occupation\n",
        "y_axis1 = np.array([c[1] for c in count_by_occupation]) #occurences\n",
        "\n",
        "#an alternative solution would be\n",
        "# count_by_occupation = user_fields.map(lambda fields: fields[3]).countByValue()\n",
        "# x_axis1 = np.array([c for c in count_by_occupation.keys()])\n",
        "# y_axis1 = np.array([c for c in count_by_occupation.values()])\n",
        "\n",
        "x_axis = x_axis1[np.argsort(y_axis1)] # argsort return the indexes of resorting y_axis1, check out print(np.argsort(y_axis1))\n",
        "y_axis = y_axis1[np.argsort(y_axis1)] # argsort return the indexes of resorting y_axis1, check out print(np.argsort(y_axis1))\n",
        "#some visual ararngement\n",
        "pos = np.arange(len(x_axis))\n",
        "width = 0.9\n",
        "ax = plt.axes()\n",
        "ax.set_xticks(pos)\n",
        "ax.set_xticklabels(x_axis)\n",
        "plt.bar(pos, y_axis, width, color='lightblue')\n",
        "plt.xticks(rotation=30)\n",
        "fig = plt.gcf()\n",
        "fig.set_size_inches(16, 10)"
      ],
      "execution_count": 25,
      "outputs": [
        {
          "output_type": "display_data",
          "data": {
            "text/plain": [
              "<Figure size 1600x1000 with 1 Axes>"
            ],
            "image/png": "[encoded data removed]"
          },
          "metadata": {}
        }
      ]
    },
    {
      "cell_type": "markdown",
      "metadata": {
        "id": "jUUWjqN38kN2"
      },
      "source": [
        "##Exploring the movie dataset"
      ]
    },
    {
      "cell_type": "markdown",
      "source": [
        "### 7) Import the u.item data file into an RDD, print the first line of the RDD, then count the number of movies\n"
      ],
      "metadata": {
        "id": "WAzCWqL0YgMG"
      }
    },
    {
      "cell_type": "code",
      "metadata": {
        "id": "X3URPlPy8q_w",
        "outputId": "03f871a1-d007-4b74-ba2b-4d205fe4cff8",
        "colab": {
          "base_uri": "https://localhost:8080/"
        }
      },
      "source": [
        "#Q7\n",
        "print(item.first())\n",
        "num_movies = item.count()\n",
        "print(\"Movies: \", num_movies)"
      ],
      "execution_count": 26,
      "outputs": [
        {
          "output_type": "stream",
          "name": "stdout",
          "text": [
            "1|Toy Story (1995)|01-Jan-1995||http://us.imdb.com/M/title-exact?Toy%20Story%20(1995)|0|0|0|1|1|1|0|0|0|0|0|0|0|0|0|0|0|0|0\n",
            "Movies:  1682\n"
          ]
        }
      ]
    },
    {
      "cell_type": "markdown",
      "source": [
        "### 8) Plot the distribution of movie release year.\n",
        "You can filter out or fill in bad/missing data (check that the year format is composed of 4 digits.\n"
      ],
      "metadata": {
        "id": "zPC2UjhwYlXe"
      }
    },
    {
      "cell_type": "code",
      "metadata": {
        "id": "GFwEVwuOmIE0",
        "outputId": "cd629256-1a15-4e4e-c279-0e26febdf9c8",
        "colab": {
          "base_uri": "https://localhost:8080/",
          "height": 466
        }
      },
      "source": [
        "#Q8\n",
        "movie_fields = item.map(lambda lines: lines.split(\"|\"))\n",
        "#extract the release date (3rd field), exact that last 4 characters, then filter out bad year format\n",
        "years = movie_fields.map(lambda fields: fields[2]).map(lambda x:x[-4:])\n",
        "years_filtered = years.filter(lambda y:len(y)==4).map(lambda y:int(y))\n",
        "print(type(years_filtered)) #<class 'pyspark.rdd.PipelinedRDD'>\n",
        "# #bin in each release year\n",
        "occ_release_year = years_filtered.countByValue()\n",
        "plt.bar(list(occ_release_year.keys()), occ_release_year.values(), color='lightblue')\n"
      ],
      "execution_count": 27,
      "outputs": [
        {
          "output_type": "stream",
          "name": "stdout",
          "text": [
            "<class 'pyspark.rdd.PipelinedRDD'>\n"
          ]
        },
        {
          "output_type": "execute_result",
          "data": {
            "text/plain": [
              "<BarContainer object of 71 artists>"
            ]
          },
          "metadata": {},
          "execution_count": 27
        },
        {
          "output_type": "display_data",
          "data": {
            "text/plain": [
              "<Figure size 640x480 with 1 Axes>"
            ],
            "image/png": "[encoded data removed]"
          },
          "metadata": {}
        }
      ]
    },
    {
      "cell_type": "markdown",
      "metadata": {
        "id": "Ytwn5gWKjn7B"
      },
      "source": [
        "##Exploring the rating dataset"
      ]
    },
    {
      "cell_type": "markdown",
      "source": [
        "### 9) Import the u.data data file into an RDD, print the first line of the RDD, then count the number of ratings\n"
      ],
      "metadata": {
        "id": "Tm18qvm8YrV7"
      }
    },
    {
      "cell_type": "code",
      "metadata": {
        "id": "GZ7zKz88NlzA",
        "outputId": "9214ac41-82bf-4b6b-8768-29dda3abaa63",
        "colab": {
          "base_uri": "https://localhost:8080/"
        }
      },
      "source": [
        "#Q9\n",
        "print(data.first())\n",
        "num_ratings = data.count()\n",
        "print(\"Ratings: \", num_ratings)"
      ],
      "execution_count": 28,
      "outputs": [
        {
          "output_type": "stream",
          "name": "stdout",
          "text": [
            "196\t242\t3\t881250949\n",
            "Ratings:  100000\n"
          ]
        }
      ]
    },
    {
      "cell_type": "markdown",
      "source": [
        "### 10) Print the minimum, max, average(mean), median ratings, then the average number of ratings per user then per movie\n",
        "Use numpy functions."
      ],
      "metadata": {
        "id": "faf3mUBgYwO2"
      }
    },
    {
      "cell_type": "code",
      "metadata": {
        "id": "cwn01JqMNl7i",
        "outputId": "9db626e8-6fc9-4335-9c55-550f8a18ec29",
        "colab": {
          "base_uri": "https://localhost:8080/"
        }
      },
      "source": [
        "#Q10\n",
        "rating_data = data.map(lambda line:line.split(\"\\t\"))\n",
        "ratings = rating_data.map(lambda fields:int(fields[2]))\n",
        "print(\"Min rating\", ratings.min())\n",
        "print(\"Max rating\", ratings.max())\n",
        "print(\"Mean rating\", ratings.mean())\n",
        "print(\"Median rating\", np.median(ratings.collect()))\n",
        "#print(ratings.stats())\n",
        "print('Average number of ratings per user',num_ratings / num_users)\n",
        "print('Average number of ratings per movie',num_ratings / num_movies)"
      ],
      "execution_count": 29,
      "outputs": [
        {
          "output_type": "stream",
          "name": "stdout",
          "text": [
            "Min rating 1\n",
            "Max rating 5\n",
            "Mean rating 3.529859999999947\n",
            "Median rating 4.0\n",
            "Average number of ratings per user 106.04453870625663\n",
            "Average number of ratings per movie 59.45303210463734\n"
          ]
        }
      ]
    },
    {
      "cell_type": "markdown",
      "source": [
        "### 11) Plot the frequency of rating values\n",
        "Use countByValue function"
      ],
      "metadata": {
        "id": "d4_WENxkYzFp"
      }
    },
    {
      "cell_type": "markdown",
      "source": [
        "![image.png](data:image/png;base64,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)"
      ],
      "metadata": {
        "id": "-ZslPJyDd9mr"
      }
    },
    {
      "cell_type": "code",
      "metadata": {
        "id": "FD6qOeEUuw9v",
        "outputId": "24168128-e182-4980-9a2c-cf427c7c37dc",
        "colab": {
          "base_uri": "https://localhost:8080/",
          "height": 448
        }
      },
      "source": [
        "#Q11\n",
        "freq_ratings = ratings.countByValue()\n",
        "plt.bar(list(freq_ratings.keys()),list(freq_ratings.values()), color='lightblue')\n",
        "# notice that the distribution of ratings is skewed towards average to high ratings"
      ],
      "execution_count": 30,
      "outputs": [
        {
          "output_type": "execute_result",
          "data": {
            "text/plain": [
              "<BarContainer object of 5 artists>"
            ]
          },
          "metadata": {},
          "execution_count": 30
        },
        {
          "output_type": "display_data",
          "data": {
            "text/plain": [
              "<Figure size 640x480 with 1 Axes>"
            ],
            "image/png": "[encoded data removed]"
          },
          "metadata": {}
        }
      ]
    },
    {
      "cell_type": "markdown",
      "source": [
        "### 12) Plot the histogram of number of ratings per user"
      ],
      "metadata": {
        "id": "Kh209p4kY2TU"
      }
    },
    {
      "cell_type": "code",
      "metadata": {
        "id": "cYS27wshxcgR",
        "outputId": "0be9655f-e6f8-4ef5-de1b-6c8bdc1ef08e",
        "colab": {
          "base_uri": "https://localhost:8080/",
          "height": 830
        }
      },
      "source": [
        "#Q12\n",
        "#we can use groupByKey to aggregate each user rating is an iterable (set),\n",
        "user_ratings_grouped = rating_data.map(lambda fields:(int(fields[0]),int(fields[2]))).groupByKey()\n",
        "#check out list(user_ratings_grouped.first()[1])\n",
        "user_ratings_grouped_nb = user_ratings_grouped.map(lambda item:(item[0],len(item[1])))\n",
        "nb_ratings_per_user = user_ratings_grouped_nb.map(lambda item:item[1]).collect()\n",
        "plt.hist(nb_ratings_per_user, bins=200, color='g', density=True)\n",
        "fig = plt.gcf()\n",
        "fig.set_size_inches(16,10)"
      ],
      "execution_count": 32,
      "outputs": [
        {
          "output_type": "display_data",
          "data": {
            "text/plain": [
              "<Figure size 1600x1000 with 1 Axes>"
            ],
            "image/png": "[encoded data removed]"
          },
          "metadata": {}
        }
      ]
    },
    {
      "cell_type": "markdown",
      "metadata": {
        "id": "s8S0vCMlWb4w"
      },
      "source": [
        "##Extracting features from data\n",
        "\n",
        "Features refer to the variables that are fed to train our Machine learning/Deep learning models. Since the majority of ML algorithms uses numerical representation in the form of vector. Hence :\n",
        "Categorical variables are often transformed to numerical ones using the one-hot encoding. Note that with DataFrame, you can use StringIndexer, OneHotEncoderEstimator, and VectorAssembler.\n",
        "Text is often transformed to useful features using Natural Language Processing (NLP) techniques. It is quite common to follow these steps: tokenization, stop word removal, stemming, then vectorization.\n",
        "\n",
        "Nowdays, in Large Language Models (LLMs) like GPT, BERT, and LLaMA, many of these preprocessing steps are automatically handled by the tokenization process, eliminating the need for 'manual steps'.\n",
        "\n",
        "\n"
      ]
    },
    {
      "cell_type": "markdown",
      "source": [
        "### 13) Transform the categorical variable “occupation” into a numerical  binary feature vector one hot-encoded\n"
      ],
      "metadata": {
        "id": "2bbYtu2HY7dv"
      }
    },
    {
      "cell_type": "markdown",
      "source": [
        "First select the job data inside the user_fields. Then, transform each job into a numerical value [0,1,2,3,4 etc.], in a second moment transform those values into binary values. For example, if we have only four jobs in our list, the list would be [0,1,2,3] and thus job 0 would be described in binary values in one hot encoding as [1,0,0,0]. Similarly, job 1 would be described by [0,1,0,0].\n",
        "\n",
        "Use the function distinct() and collect().\n",
        "Save each occupation as a value in a dict\n"
      ],
      "metadata": {
        "id": "TiZZ4qtuDUVn"
      }
    },
    {
      "cell_type": "code",
      "metadata": {
        "id": "n3XO2oyzCUPu",
        "outputId": "b08293ba-40a4-4746-e99a-a518b837c6bc",
        "colab": {
          "base_uri": "https://localhost:8080/"
        }
      },
      "source": [
        "#Q13\n",
        "all_occupations = user_fields.map(lambda fields: fields[3]).distinct().collect()\n",
        "all_occupations.sort()\n",
        "idx = 0\n",
        "all_occupations_dict = {}\n",
        "for o in all_occupations:\n",
        "  all_occupations_dict[o] = idx\n",
        "  idx +=1\n",
        "# try a few examples to see what \"1-of-k\" encoding is assigned\n",
        "print(\"Encoding of 'doctor': \", all_occupations_dict['doctor'])\n",
        "print(\"Encoding of 'programmer': \", all_occupations_dict['programmer'])\n",
        "print(all_occupations_dict)"
      ],
      "execution_count": null,
      "outputs": [
        {
          "output_type": "stream",
          "name": "stdout",
          "text": [
            "Encoding of 'doctor':  2\n",
            "Encoding of 'programmer':  14\n",
            "{'administrator': 0, 'artist': 1, 'doctor': 2, 'educator': 3, 'engineer': 4, 'entertainment': 5, 'executive': 6, 'healthcare': 7, 'homemaker': 8, 'lawyer': 9, 'librarian': 10, 'marketing': 11, 'none': 12, 'other': 13, 'programmer': 14, 'retired': 15, 'salesman': 16, 'scientist': 17, 'student': 18, 'technician': 19, 'writer': 20}\n"
          ]
        }
      ]
    },
    {
      "cell_type": "code",
      "source": [
        "def one_hot_encode_job(job):\n",
        "    num_jobs = len(all_occupations_dict)\n",
        "    encoding = [0] * num_jobs\n",
        "    if job in all_occupations_dict:\n",
        "        encoding[all_occupations_dict[job]] = 1\n",
        "    return encoding\n",
        "\n",
        "for job in all_occupations_dict:\n",
        "    encoding = one_hot_encode_job(job)\n",
        "    print(f\"{job}: {encoding}\")\n"
      ],
      "metadata": {
        "colab": {
          "base_uri": "https://localhost:8080/"
        },
        "id": "PngimHYjzfZc",
        "outputId": "eebc3cd2-dd20-4318-f949-6b1d0bc651c3"
      },
      "execution_count": null,
      "outputs": [
        {
          "output_type": "stream",
          "name": "stdout",
          "text": [
            "administrator: [1, 0, 0, 0, 0, 0, 0, 0, 0, 0, 0, 0, 0, 0, 0, 0, 0, 0, 0, 0, 0]\n",
            "artist: [0, 1, 0, 0, 0, 0, 0, 0, 0, 0, 0, 0, 0, 0, 0, 0, 0, 0, 0, 0, 0]\n",
            "doctor: [0, 0, 1, 0, 0, 0, 0, 0, 0, 0, 0, 0, 0, 0, 0, 0, 0, 0, 0, 0, 0]\n",
            "educator: [0, 0, 0, 1, 0, 0, 0, 0, 0, 0, 0, 0, 0, 0, 0, 0, 0, 0, 0, 0, 0]\n",
            "engineer: [0, 0, 0, 0, 1, 0, 0, 0, 0, 0, 0, 0, 0, 0, 0, 0, 0, 0, 0, 0, 0]\n",
            "entertainment: [0, 0, 0, 0, 0, 1, 0, 0, 0, 0, 0, 0, 0, 0, 0, 0, 0, 0, 0, 0, 0]\n",
            "executive: [0, 0, 0, 0, 0, 0, 1, 0, 0, 0, 0, 0, 0, 0, 0, 0, 0, 0, 0, 0, 0]\n",
            "healthcare: [0, 0, 0, 0, 0, 0, 0, 1, 0, 0, 0, 0, 0, 0, 0, 0, 0, 0, 0, 0, 0]\n",
            "homemaker: [0, 0, 0, 0, 0, 0, 0, 0, 1, 0, 0, 0, 0, 0, 0, 0, 0, 0, 0, 0, 0]\n",
            "lawyer: [0, 0, 0, 0, 0, 0, 0, 0, 0, 1, 0, 0, 0, 0, 0, 0, 0, 0, 0, 0, 0]\n",
            "librarian: [0, 0, 0, 0, 0, 0, 0, 0, 0, 0, 1, 0, 0, 0, 0, 0, 0, 0, 0, 0, 0]\n",
            "marketing: [0, 0, 0, 0, 0, 0, 0, 0, 0, 0, 0, 1, 0, 0, 0, 0, 0, 0, 0, 0, 0]\n",
            "none: [0, 0, 0, 0, 0, 0, 0, 0, 0, 0, 0, 0, 1, 0, 0, 0, 0, 0, 0, 0, 0]\n",
            "other: [0, 0, 0, 0, 0, 0, 0, 0, 0, 0, 0, 0, 0, 1, 0, 0, 0, 0, 0, 0, 0]\n",
            "programmer: [0, 0, 0, 0, 0, 0, 0, 0, 0, 0, 0, 0, 0, 0, 1, 0, 0, 0, 0, 0, 0]\n",
            "retired: [0, 0, 0, 0, 0, 0, 0, 0, 0, 0, 0, 0, 0, 0, 0, 1, 0, 0, 0, 0, 0]\n",
            "salesman: [0, 0, 0, 0, 0, 0, 0, 0, 0, 0, 0, 0, 0, 0, 0, 0, 1, 0, 0, 0, 0]\n",
            "scientist: [0, 0, 0, 0, 0, 0, 0, 0, 0, 0, 0, 0, 0, 0, 0, 0, 0, 1, 0, 0, 0]\n",
            "student: [0, 0, 0, 0, 0, 0, 0, 0, 0, 0, 0, 0, 0, 0, 0, 0, 0, 0, 1, 0, 0]\n",
            "technician: [0, 0, 0, 0, 0, 0, 0, 0, 0, 0, 0, 0, 0, 0, 0, 0, 0, 0, 0, 1, 0]\n",
            "writer: [0, 0, 0, 0, 0, 0, 0, 0, 0, 0, 0, 0, 0, 0, 0, 0, 0, 0, 0, 0, 1]\n"
          ]
        }
      ]
    },
    {
      "cell_type": "markdown",
      "source": [
        "### 14) Create an RDD representing the period of the day when each rating has been done"
      ],
      "metadata": {
        "id": "l8QxZQnvY_Ix"
      }
    },
    {
      "cell_type": "markdown",
      "source": [
        "Extract the hour of the day from the time stamp\n",
        "\n",
        "\n",
        "*   Take data from point 10\n",
        "*   Transform each time in a 'human format', take a look to datatime.datatime.fromtimestamp() (Remember that datetime has fields hour and minute. So to get the hours and minutes, you will use .hour and .minute)\n",
        "\n",
        "Map the hour to day time according to the following: morning= [7-12[, lunch=[12-14[, afternoon=[14-18[, evening=[18, 23[, night=[23,7["
      ],
      "metadata": {
        "id": "YQ3ElReIa5bn"
      }
    },
    {
      "cell_type": "code",
      "metadata": {
        "id": "_AB3Enuo1eTy",
        "outputId": "4f01b9b7-eb5a-4283-88e0-e7319cee73a8",
        "colab": {
          "base_uri": "https://localhost:8080/"
        }
      },
      "source": [
        "#Q14\n",
        "import datetime\n",
        "timestamps = rating_data.map(lambda fields: int(fields[3]))\n",
        "timestamps.take(5)"
      ],
      "execution_count": null,
      "outputs": [
        {
          "output_type": "execute_result",
          "data": {
            "text/plain": [
              "[881250949, 891717742, 878887116, 880606923, 886397596]"
            ]
          },
          "metadata": {},
          "execution_count": 41
        }
      ]
    },
    {
      "cell_type": "code",
      "source": [
        "hour_of_day = timestamps.map(lambda ts: datetime.datetime.fromtimestamp(ts).hour)\n",
        "hour_of_day.take(5)"
      ],
      "metadata": {
        "colab": {
          "base_uri": "https://localhost:8080/"
        },
        "id": "AMsd4OMFcFbz",
        "outputId": "b24dec62-a095-4b8a-f804-4fcaef57d512"
      },
      "execution_count": null,
      "outputs": [
        {
          "output_type": "execute_result",
          "data": {
            "text/plain": [
              "[15, 19, 7, 5, 5]"
            ]
          },
          "metadata": {},
          "execution_count": 42
        }
      ]
    },
    {
      "cell_type": "code",
      "metadata": {
        "id": "VQ7e2LFe588v",
        "outputId": "366a4153-db79-4f40-95e9-e354bd0574fd",
        "colab": {
          "base_uri": "https://localhost:8080/"
        }
      },
      "source": [
        "def assign_tod(hr):\n",
        "    times_of_day = {\n",
        "      'morning' : range(7, 12),\n",
        "      'lunch' : range(12, 14),\n",
        "      'afternoon' : range(14, 18),\n",
        "      'evening' : range(18, 23),\n",
        "      'night' : range(23, 7)\n",
        "    }\n",
        "    for k, v in times_of_day.items():\n",
        "      if hr in v:\n",
        "        return k\n",
        "\n",
        "time_of_day = hour_of_day.map(lambda hr: assign_tod(hr))\n",
        "time_of_day.take(5)"
      ],
      "execution_count": null,
      "outputs": [
        {
          "output_type": "execute_result",
          "data": {
            "text/plain": [
              "['afternoon', 'evening', 'morning', None, None]"
            ]
          },
          "metadata": {},
          "execution_count": 43
        }
      ]
    }
  ]
}